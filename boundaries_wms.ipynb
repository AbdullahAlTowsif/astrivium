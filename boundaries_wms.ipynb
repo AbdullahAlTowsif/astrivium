{
 "cells": [
  {
   "cell_type": "markdown",
   "metadata": {},
   "source": [
    "## Plotting Precipitation Data for U.S. Cities:\n",
    "### Step 1: Importing the U.S. Borders from the USGS WMS"
   ]
  },
  {
   "cell_type": "markdown",
   "metadata": {},
   "source": [
    "The aim of this notebook is to download boundaries data from the United States Geological Survey (USGS) to get an outline of the states in the mainland USA. Specifically, we will be HTTP requesting the USGS's National Boundary Dataset (NBD) Downloadable Data Collection, which obeys the OGC Web Map Service (WMS) standard."
   ]
  },
  {
   "cell_type": "code",
   "execution_count": 1,
   "metadata": {},
   "outputs": [],
   "source": [
    "import numpy as np"
   ]
  },
  {
   "cell_type": "code",
   "execution_count": 54,
   "metadata": {},
   "outputs": [
    {
     "data": {
      "text/plain": [
       "'\\n# Longitude (vertical lines)\"\\nxmin= -130 # West of center\\nxmax= -60 # East of center\\n# Latitude (horizontal lines):\\nymax= 50 # North of center\\nymin= 25 # South of center\\n'"
      ]
     },
     "execution_count": 54,
     "metadata": {},
     "output_type": "execute_result"
    }
   ],
   "source": [
    "# true range of service:\n",
    "xmin=-179.0\n",
    "xmax=179.0\n",
    "ymin=-14.0\n",
    "ymax=71.0\n",
    "\n",
    "'''\n",
    "# Longitude (vertical lines)\"\n",
    "xmin= -130 # West of center\n",
    "xmax= -60 # East of center\n",
    "# Latitude (horizontal lines):\n",
    "ymax= 50 # North of center\n",
    "ymin= 25 # South of center\n",
    "'''"
   ]
  },
  {
   "cell_type": "code",
   "execution_count": 60,
   "metadata": {},
   "outputs": [],
   "source": [
    "resolution = 5 # (in px per degree)\n",
    "width = int((xmax-xmin)*resolution)\n",
    "height = int((ymax-ymin)*resolution)"
   ]
  },
  {
   "cell_type": "code",
   "execution_count": 61,
   "metadata": {},
   "outputs": [],
   "source": [
    "def assemble_url(width, height, xmin, ymin, xmax, ymax):\n",
    "    base = \"https://www.sciencebase.gov/catalogMaps/mapping/ows/4f70b219e4b058caae3f8e19?service=wms\"\n",
    "    request = \"request=getmap\"\n",
    "    fmt = \"format=image%2Fpng\"\n",
    "    version = \"version=1.3.0\"\n",
    "    dims = f\"width={width}&height={height}\"\n",
    "    bbox = \"bbox=\" + \",\".join(map(lambda x: str(x), (xmin, ymin, xmax, ymax)))\n",
    "    crs = \"crs=EPSG:4326\"\n",
    "    layers = \"layers=GU_CountyOrEquivalent\"\n",
    "    return \"&\".join((base, version, request, layers, crs, bbox, fmt, dims))"
   ]
  },
  {
   "cell_type": "code",
   "execution_count": 62,
   "metadata": {},
   "outputs": [
    {
     "name": "stdout",
     "output_type": "stream",
     "text": [
      "https://www.sciencebase.gov/catalogMaps/mapping/ows/4f70b219e4b058caae3f8e19?service=wms&version=1.3.0&request=getmap&layers=GU_CountyOrEquivalent&crs=EPSG:4326&bbox=-179.0,-14.0,179.0,71.0&format=image%2Fpng&width=1790&height=425\n"
     ]
    }
   ],
   "source": [
    "print(assemble_url(width, height, xmin, ymin, xmax, ymax))"
   ]
  },
  {
   "cell_type": "code",
   "execution_count": null,
   "metadata": {},
   "outputs": [],
   "source": []
  },
  {
   "cell_type": "code",
   "execution_count": null,
   "metadata": {},
   "outputs": [],
   "source": []
  },
  {
   "cell_type": "markdown",
   "metadata": {},
   "source": [
    "References:\n",
    "- [WMS Reference](https://docs.geoserver.org/2.21.x/en/user/services/wms/reference.html)"
   ]
  }
 ],
 "metadata": {
  "kernelspec": {
   "display_name": "Python 3",
   "language": "python",
   "name": "python3"
  },
  "language_info": {
   "codemirror_mode": {
    "name": "ipython",
    "version": 3
   },
   "file_extension": ".py",
   "mimetype": "text/x-python",
   "name": "python",
   "nbconvert_exporter": "python",
   "pygments_lexer": "ipython3",
   "version": "3.11.5"
  }
 },
 "nbformat": 4,
 "nbformat_minor": 2
}
